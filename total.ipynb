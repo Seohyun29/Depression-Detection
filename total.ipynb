{
  "nbformat": 4,
  "nbformat_minor": 0,
  "metadata": {
    "colab": {
      "provenance": [],
      "mount_file_id": "1JGNPrSIKy_XheEqRi7FdmTyoWBt6p8vH",
      "authorship_tag": "ABX9TyPudqri36WMAlWJpGLydGT6",
      "include_colab_link": true
    },
    "kernelspec": {
      "name": "python3",
      "display_name": "Python 3"
    },
    "language_info": {
      "name": "python"
    },
    "accelerator": "GPU",
    "gpuClass": "standard"
  },
  "cells": [
    {
      "cell_type": "markdown",
      "metadata": {
        "id": "view-in-github",
        "colab_type": "text"
      },
      "source": [
        "<a href=\"https://colab.research.google.com/github/Seohyun29/Depression-Detection/blob/main/total.ipynb\" target=\"_parent\"><img src=\"https://colab.research.google.com/assets/colab-badge.svg\" alt=\"Open In Colab\"/></a>"
      ]
    },
    {
      "cell_type": "code",
      "source": [
        "import os\n",
        "from google.colab import files\n",
        "\n",
        "os.chdir('/content/drive/MyDrive/토탈/음성데이터')\n",
        "uploaded = files.upload()\n",
        "\n",
        "#mfcc\n",
        "import matplotlib.pyplot as plt\n",
        "import librosa.display\n",
        "import librosa\n",
        "import numpy as np\n",
        "\n",
        "import os\n",
        "from scipy.io import wavfile\n",
        "\n",
        "path1 = '/content/drive/MyDrive/토탈/음성데이터'\n",
        "\n",
        "file_list = os.listdir(path1)\n",
        "file_list_wav = [file for file in file_list if file.endswith(\".wav\")]\n",
        "for file in file_list_wav:\n",
        "    filepath = path1 + '/' + file\n",
        "    sample_rate=16000\n",
        "    print(filepath)\n",
        "\n",
        "    x = librosa.load(filepath,sample_rate)[0]\n",
        "    S = librosa.feature.melspectrogram(x, sr=sample_rate, n_mels=128)\n",
        "    log_S = librosa.power_to_db(S, ref=np.max)\n",
        "    mfcc = librosa.feature.mfcc(S=log_S, n_mfcc=10)\n",
        "\n",
        "    delta2_mfcc = librosa.feature.delta(mfcc, order=2)\n",
        "\n",
        "    plt.figure(figsize=(10,5))\n",
        "    librosa.display.specshow(delta2_mfcc)\n",
        "    plt.ylabel('MFCC coeffs')\n",
        "    plt.xlabel('Time')\n",
        "    plt.title('MFCC-%s'%file)\n",
        "    plt.colorbar()\n",
        "    plt.tight_layout()\n",
        "    os.chdir('/content/drive/MyDrive/토탈/totlatest')\n",
        "    plt.savefig('mfcc-음성1')\n",
        "os.remove(filepath)\n",
        "\n",
        "#우울증 판별\n",
        "import numpy as np\n",
        "from google.colab import files\n",
        "from keras.preprocessing import image\n",
        "\n",
        "path2= '/content/drive/MyDrive/토탈/totlatest/mfcc-음성1.png'\n",
        "\n",
        "img=image.load_img(path2, target_size=(150, 150))\n",
        "\n",
        "x=image.img_to_array(img)\n",
        "x=np.expand_dims(x, axis=0)\n",
        "images = np.vstack([x])\n",
        "\n",
        "classes = model.predict(images, batch_size=10)\n",
        "\n",
        "\n",
        "if classes[0]>0:\n",
        "    print(\" 우울증 위험입니다.\")\n",
        "else:\n",
        "    print(\"비우울증입니다.\")\n",
        "os.remove(path2)"
      ],
      "metadata": {
        "colab": {
          "resources": {
            "http://localhost:8080/nbextensions/google.colab/files.js": {
              "data": "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",
              "ok": true,
              "headers": [
                [
                  "content-type",
                  "application/javascript"
                ]
              ],
              "status": 200,
              "status_text": ""
            }
          },
          "base_uri": "https://localhost:8080/",
          "height": 906
        },
        "id": "1Ts4h6X5ybDV",
        "outputId": "b39c64c6-ee91-4fbc-f4f3-45fa834e1ef0"
      },
      "execution_count": null,
      "outputs": [
        {
          "output_type": "display_data",
          "data": {
            "text/plain": [
              "<IPython.core.display.HTML object>"
            ],
            "text/html": [
              "\n",
              "     <input type=\"file\" id=\"files-7c573d12-da5b-4cb7-be54-15e9a2663da0\" name=\"files[]\" multiple disabled\n",
              "        style=\"border:none\" />\n",
              "     <output id=\"result-7c573d12-da5b-4cb7-be54-15e9a2663da0\">\n",
              "      Upload widget is only available when the cell has been executed in the\n",
              "      current browser session. Please rerun this cell to enable.\n",
              "      </output>\n",
              "      <script src=\"/nbextensions/google.colab/files.js\"></script> "
            ]
          },
          "metadata": {}
        },
        {
          "output_type": "stream",
          "name": "stdout",
          "text": [
            "Saving 우울증_P344_no_silence.wav to 우울증_P344_no_silence.wav\n",
            "/content/drive/MyDrive/토탈/음성데이터/우울증_P344_no_silence.wav\n"
          ]
        },
        {
          "output_type": "stream",
          "name": "stderr",
          "text": [
            "/usr/local/lib/python3.7/dist-packages/matplotlib/backends/backend_agg.py:214: RuntimeWarning: Glyph 4363 missing from current font.\n",
            "  font.set_text(s, 0.0, flags=flags)\n",
            "/usr/local/lib/python3.7/dist-packages/matplotlib/backends/backend_agg.py:214: RuntimeWarning: Glyph 4462 missing from current font.\n",
            "  font.set_text(s, 0.0, flags=flags)\n",
            "/usr/local/lib/python3.7/dist-packages/matplotlib/backends/backend_agg.py:214: RuntimeWarning: Glyph 4527 missing from current font.\n",
            "  font.set_text(s, 0.0, flags=flags)\n",
            "/usr/local/lib/python3.7/dist-packages/matplotlib/backends/backend_agg.py:214: RuntimeWarning: Glyph 4364 missing from current font.\n",
            "  font.set_text(s, 0.0, flags=flags)\n",
            "/usr/local/lib/python3.7/dist-packages/matplotlib/backends/backend_agg.py:214: RuntimeWarning: Glyph 4467 missing from current font.\n",
            "  font.set_text(s, 0.0, flags=flags)\n",
            "/usr/local/lib/python3.7/dist-packages/matplotlib/backends/backend_agg.py:214: RuntimeWarning: Glyph 4540 missing from current font.\n",
            "  font.set_text(s, 0.0, flags=flags)\n",
            "/usr/local/lib/python3.7/dist-packages/matplotlib/backends/backend_agg.py:183: RuntimeWarning: Glyph 4363 missing from current font.\n",
            "  font.set_text(s, 0, flags=flags)\n",
            "/usr/local/lib/python3.7/dist-packages/matplotlib/backends/backend_agg.py:183: RuntimeWarning: Glyph 4462 missing from current font.\n",
            "  font.set_text(s, 0, flags=flags)\n",
            "/usr/local/lib/python3.7/dist-packages/matplotlib/backends/backend_agg.py:183: RuntimeWarning: Glyph 4527 missing from current font.\n",
            "  font.set_text(s, 0, flags=flags)\n",
            "/usr/local/lib/python3.7/dist-packages/matplotlib/backends/backend_agg.py:183: RuntimeWarning: Glyph 4364 missing from current font.\n",
            "  font.set_text(s, 0, flags=flags)\n",
            "/usr/local/lib/python3.7/dist-packages/matplotlib/backends/backend_agg.py:183: RuntimeWarning: Glyph 4467 missing from current font.\n",
            "  font.set_text(s, 0, flags=flags)\n",
            "/usr/local/lib/python3.7/dist-packages/matplotlib/backends/backend_agg.py:183: RuntimeWarning: Glyph 4540 missing from current font.\n",
            "  font.set_text(s, 0, flags=flags)\n"
          ]
        },
        {
          "output_type": "stream",
          "name": "stdout",
          "text": [
            "비우울증입니다.\n"
          ]
        },
        {
          "output_type": "display_data",
          "data": {
            "text/plain": [
              "<Figure size 720x360 with 2 Axes>"
            ],
            "image/png": "[encoded data removed]"
          },
          "metadata": {
            "needs_background": "light"
          }
        }
      ]
    },
    {
      "cell_type": "code",
      "source": [
        "import os\n",
        "from google.colab import files\n",
        "\n",
        "os.chdir('/content/drive/MyDrive/토탈/음성데이터')\n",
        "uploaded = files.upload()"
      ],
      "metadata": {
        "colab": {
          "resources": {
            "http://localhost:8080/nbextensions/google.colab/files.js": {
              "data": "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",
              "ok": true,
              "headers": [
                [
                  "content-type",
                  "application/javascript"
                ]
              ],
              "status": 200,
              "status_text": ""
            }
          },
          "base_uri": "https://localhost:8080/",
          "height": 41
        },
        "id": "yRlQLbvcMFnh",
        "outputId": "cc283ff5-22e7-46a7-be8e-21585accc186"
      },
      "execution_count": null,
      "outputs": [
        {
          "output_type": "display_data",
          "data": {
            "text/plain": [
              "<IPython.core.display.HTML object>"
            ],
            "text/html": [
              "\n",
              "     <input type=\"file\" id=\"files-488b43f0-4b6b-4c7e-8434-46f2fc8ec85b\" name=\"files[]\" multiple disabled\n",
              "        style=\"border:none\" />\n",
              "     <output id=\"result-488b43f0-4b6b-4c7e-8434-46f2fc8ec85b\">\n",
              "      Upload widget is only available when the cell has been executed in the\n",
              "      current browser session. Please rerun this cell to enable.\n",
              "      </output>\n",
              "      <script src=\"/nbextensions/google.colab/files.js\"></script> "
            ]
          },
          "metadata": {}
        }
      ]
    },
    {
      "cell_type": "code",
      "source": [
        "# 기본 경로\n",
        "import os\n",
        "base_dir = '/content/drive/MyDrive/cnn테스트'\n",
        "\n",
        "train_dir = os.path.join(base_dir, 'train')\n",
        "validation_dir = os.path.join(base_dir, 'test')\n",
        "\n",
        "# 훈련에 사용되는 이미지 경로\n",
        "train_depression_dir = os.path.join(train_dir, '우울증')\n",
        "train_Ndepression_dir = os.path.join(train_dir, '비우울증')\n",
        "\n",
        "# 테스트에 사용되는 이미지 경로\n",
        "validation_depression_dir = os.path.join(validation_dir, '우울증')\n",
        "validation_Ndepression_dir = os.path.join(validation_dir, '비우울증')"
      ],
      "metadata": {
        "id": "BenPEPjvrGqc"
      },
      "execution_count": null,
      "outputs": []
    },
    {
      "cell_type": "code",
      "source": [
        "print('Total training depression images :', len(os.listdir(train_depression_dir)))\n",
        "print('Total training Ndepression images :', len(os.listdir(train_Ndepression_dir)))\n",
        "\n",
        "print('Total validation depression images :', len(os.listdir(validation_depression_dir)))\n",
        "print('Total validation Ndepression images :', len(os.listdir(validation_Ndepression_dir)))"
      ],
      "metadata": {
        "colab": {
          "base_uri": "https://localhost:8080/"
        },
        "id": "8IbaHvoXrGok",
        "outputId": "0dbf1704-4175-451a-d1cb-16d164f01f71"
      },
      "execution_count": null,
      "outputs": [
        {
          "output_type": "stream",
          "name": "stdout",
          "text": [
            "Total training depression images : 39\n",
            "Total training Ndepression images : 93\n",
            "Total validation depression images : 16\n",
            "Total validation Ndepression images : 40\n"
          ]
        }
      ]
    },
    {
      "cell_type": "code",
      "source": [
        "#모델 구성하기\n",
        "import tensorflow as tf\n",
        "\n",
        "model = tf.keras.models.Sequential([\n",
        "  tf.keras.layers.Conv2D(16, (3,3), activation='relu', input_shape=(150, 150, 3)),\n",
        "  tf.keras.layers.MaxPooling2D(2,2),\n",
        "  tf.keras.layers.Conv2D(32, (3,3), activation='relu'),\n",
        "  tf.keras.layers.MaxPooling2D(2,2),\n",
        "  tf.keras.layers.Conv2D(64, (3,3), activation='relu'),\n",
        "  tf.keras.layers.MaxPooling2D(2,2),\n",
        "  tf.keras.layers.Flatten(),\n",
        "  tf.keras.layers.Dense(512, activation='relu'),\n",
        "  tf.keras.layers.Dense(1, activation='sigmoid')\n",
        "])\n",
        "model.summary()"
      ],
      "metadata": {
        "colab": {
          "base_uri": "https://localhost:8080/"
        },
        "id": "lFapBBjmrGmL",
        "outputId": "2ea08973-d578-40aa-cbd3-feace70d0d3e"
      },
      "execution_count": null,
      "outputs": [
        {
          "output_type": "stream",
          "name": "stdout",
          "text": [
            "Model: \"sequential\"\n",
            "_________________________________________________________________\n",
            " Layer (type)                Output Shape              Param #   \n",
            "=================================================================\n",
            " conv2d (Conv2D)             (None, 148, 148, 16)      448       \n",
            "                                                                 \n",
            " max_pooling2d (MaxPooling2D  (None, 74, 74, 16)       0         \n",
            " )                                                               \n",
            "                                                                 \n",
            " conv2d_1 (Conv2D)           (None, 72, 72, 32)        4640      \n",
            "                                                                 \n",
            " max_pooling2d_1 (MaxPooling  (None, 36, 36, 32)       0         \n",
            " 2D)                                                             \n",
            "                                                                 \n",
            " conv2d_2 (Conv2D)           (None, 34, 34, 64)        18496     \n",
            "                                                                 \n",
            " max_pooling2d_2 (MaxPooling  (None, 17, 17, 64)       0         \n",
            " 2D)                                                             \n",
            "                                                                 \n",
            " flatten (Flatten)           (None, 18496)             0         \n",
            "                                                                 \n",
            " dense (Dense)               (None, 512)               9470464   \n",
            "                                                                 \n",
            " dense_1 (Dense)             (None, 1)                 513       \n",
            "                                                                 \n",
            "=================================================================\n",
            "Total params: 9,494,561\n",
            "Trainable params: 9,494,561\n",
            "Non-trainable params: 0\n",
            "_________________________________________________________________\n"
          ]
        }
      ]
    },
    {
      "cell_type": "code",
      "source": [
        "#모델컴파일하기\n",
        "from tensorflow.keras.optimizers import RMSprop\n",
        "\n",
        "model.compile(optimizer=RMSprop(learning_rate=0.0001),\n",
        "            loss='binary_crossentropy',\n",
        "            metrics = ['accuracy'])"
      ],
      "metadata": {
        "id": "UT8HTygGrGj7"
      },
      "execution_count": null,
      "outputs": []
    },
    {
      "cell_type": "code",
      "source": [
        "#이미지 전처리\n",
        "from tensorflow.keras.preprocessing.image import ImageDataGenerator\n",
        "\n",
        "\n",
        "train_datagen = ImageDataGenerator( rescale = 1.0/255. )\n",
        "test_datagen  = ImageDataGenerator( rescale = 1.0/255. )\n",
        "\n",
        "train_generator = train_datagen.flow_from_directory(train_dir,\n",
        "                                                  batch_size=20,\n",
        "                                                  class_mode='binary',\n",
        "                                                  target_size=(150,150))\n",
        "validation_generator =  test_datagen.flow_from_directory(validation_dir,\n",
        "                                                       batch_size=20,\n",
        "                                                       class_mode  = 'binary',\n",
        "                                                       target_size=(150,150))"
      ],
      "metadata": {
        "colab": {
          "base_uri": "https://localhost:8080/"
        },
        "id": "KmNuT9KwrGhs",
        "outputId": "3218a0bf-9a5d-448a-8f5d-5061e40d7d6c"
      },
      "execution_count": null,
      "outputs": [
        {
          "output_type": "stream",
          "name": "stdout",
          "text": [
            "Found 132 images belonging to 2 classes.\n",
            "Found 56 images belonging to 2 classes.\n"
          ]
        }
      ]
    },
    {
      "cell_type": "code",
      "source": [
        "history = model.fit(train_generator,\n",
        "                    validation_data=validation_generator,\n",
        "                    steps_per_epoch=6,\n",
        "                    epochs=100,\n",
        "                    validation_steps=50,\n",
        "                    verbose=2)\n"
      ],
      "metadata": {
        "colab": {
          "base_uri": "https://localhost:8080/"
        },
        "id": "VnuTnWv5rGdr",
        "outputId": "33f6e9c3-5c1b-42ca-df2e-2c9f3b481e0a"
      },
      "execution_count": null,
      "outputs": [
        {
          "output_type": "stream",
          "name": "stdout",
          "text": [
            "Epoch 1/100\n",
            "WARNING:tensorflow:Your input ran out of data; interrupting training. Make sure that your dataset or generator can generate at least `steps_per_epoch * epochs` batches (in this case, 50 batches). You may need to use the repeat() function when building your dataset.\n",
            "6/6 - 2s - loss: 0.4332 - accuracy: 0.7946 - val_loss: 0.6552 - val_accuracy: 0.7321 - 2s/epoch - 257ms/step\n",
            "Epoch 2/100\n",
            "6/6 - 1s - loss: 0.4306 - accuracy: 0.7768 - 887ms/epoch - 148ms/step\n",
            "Epoch 3/100\n",
            "6/6 - 1s - loss: 0.4247 - accuracy: 0.8125 - 896ms/epoch - 149ms/step\n",
            "Epoch 4/100\n",
            "6/6 - 1s - loss: 0.4263 - accuracy: 0.8304 - 897ms/epoch - 149ms/step\n",
            "Epoch 5/100\n",
            "6/6 - 1s - loss: 0.3950 - accuracy: 0.7946 - 880ms/epoch - 147ms/step\n",
            "Epoch 6/100\n",
            "6/6 - 1s - loss: 0.4021 - accuracy: 0.8500 - 936ms/epoch - 156ms/step\n",
            "Epoch 7/100\n",
            "6/6 - 1s - loss: 0.4222 - accuracy: 0.8036 - 871ms/epoch - 145ms/step\n",
            "Epoch 8/100\n",
            "6/6 - 1s - loss: 0.4155 - accuracy: 0.7857 - 883ms/epoch - 147ms/step\n",
            "Epoch 9/100\n",
            "6/6 - 1s - loss: 0.3988 - accuracy: 0.8571 - 888ms/epoch - 148ms/step\n",
            "Epoch 10/100\n",
            "6/6 - 1s - loss: 0.4128 - accuracy: 0.8214 - 892ms/epoch - 149ms/step\n",
            "Epoch 11/100\n",
            "6/6 - 1s - loss: 0.3836 - accuracy: 0.8393 - 896ms/epoch - 149ms/step\n",
            "Epoch 12/100\n",
            "6/6 - 1s - loss: 0.3847 - accuracy: 0.8304 - 884ms/epoch - 147ms/step\n",
            "Epoch 13/100\n",
            "6/6 - 1s - loss: 0.3881 - accuracy: 0.8214 - 886ms/epoch - 148ms/step\n",
            "Epoch 14/100\n",
            "6/6 - 1s - loss: 0.3923 - accuracy: 0.8036 - 871ms/epoch - 145ms/step\n",
            "Epoch 15/100\n",
            "6/6 - 1s - loss: 0.3629 - accuracy: 0.8661 - 872ms/epoch - 145ms/step\n",
            "Epoch 16/100\n",
            "6/6 - 1s - loss: 0.3923 - accuracy: 0.8304 - 882ms/epoch - 147ms/step\n",
            "Epoch 17/100\n",
            "6/6 - 1s - loss: 0.3829 - accuracy: 0.8482 - 877ms/epoch - 146ms/step\n",
            "Epoch 18/100\n",
            "6/6 - 1s - loss: 0.3695 - accuracy: 0.8839 - 896ms/epoch - 149ms/step\n",
            "Epoch 19/100\n",
            "6/6 - 1s - loss: 0.3509 - accuracy: 0.8661 - 882ms/epoch - 147ms/step\n",
            "Epoch 20/100\n",
            "6/6 - 1s - loss: 0.3564 - accuracy: 0.8839 - 887ms/epoch - 148ms/step\n",
            "Epoch 21/100\n",
            "6/6 - 1s - loss: 0.3528 - accuracy: 0.8571 - 892ms/epoch - 149ms/step\n",
            "Epoch 22/100\n",
            "6/6 - 1s - loss: 0.3438 - accuracy: 0.8750 - 978ms/epoch - 163ms/step\n",
            "Epoch 23/100\n",
            "6/6 - 1s - loss: 0.3398 - accuracy: 0.9107 - 892ms/epoch - 149ms/step\n",
            "Epoch 24/100\n",
            "6/6 - 1s - loss: 0.3516 - accuracy: 0.8482 - 886ms/epoch - 148ms/step\n",
            "Epoch 25/100\n",
            "6/6 - 1s - loss: 0.3292 - accuracy: 0.8929 - 879ms/epoch - 147ms/step\n",
            "Epoch 26/100\n",
            "6/6 - 1s - loss: 0.3200 - accuracy: 0.8929 - 908ms/epoch - 151ms/step\n",
            "Epoch 27/100\n",
            "6/6 - 1s - loss: 0.3105 - accuracy: 0.8929 - 880ms/epoch - 147ms/step\n",
            "Epoch 28/100\n",
            "6/6 - 1s - loss: 0.3297 - accuracy: 0.8661 - 878ms/epoch - 146ms/step\n",
            "Epoch 29/100\n",
            "6/6 - 1s - loss: 0.3166 - accuracy: 0.8750 - 874ms/epoch - 146ms/step\n",
            "Epoch 30/100\n",
            "6/6 - 1s - loss: 0.3210 - accuracy: 0.9018 - 893ms/epoch - 149ms/step\n",
            "Epoch 31/100\n",
            "6/6 - 1s - loss: 0.3033 - accuracy: 0.8661 - 881ms/epoch - 147ms/step\n",
            "Epoch 32/100\n",
            "6/6 - 1s - loss: 0.2848 - accuracy: 0.9286 - 894ms/epoch - 149ms/step\n",
            "Epoch 33/100\n",
            "6/6 - 1s - loss: 0.2914 - accuracy: 0.8750 - 934ms/epoch - 156ms/step\n",
            "Epoch 34/100\n",
            "6/6 - 1s - loss: 0.2892 - accuracy: 0.9286 - 888ms/epoch - 148ms/step\n",
            "Epoch 35/100\n",
            "6/6 - 1s - loss: 0.2818 - accuracy: 0.9196 - 882ms/epoch - 147ms/step\n",
            "Epoch 36/100\n",
            "6/6 - 1s - loss: 0.3041 - accuracy: 0.8750 - 869ms/epoch - 145ms/step\n",
            "Epoch 37/100\n",
            "6/6 - 1s - loss: 0.2698 - accuracy: 0.9250 - 941ms/epoch - 157ms/step\n",
            "Epoch 38/100\n",
            "6/6 - 1s - loss: 0.2884 - accuracy: 0.9107 - 879ms/epoch - 146ms/step\n",
            "Epoch 39/100\n",
            "6/6 - 1s - loss: 0.2757 - accuracy: 0.9196 - 855ms/epoch - 143ms/step\n",
            "Epoch 40/100\n",
            "6/6 - 1s - loss: 0.2644 - accuracy: 0.9196 - 888ms/epoch - 148ms/step\n",
            "Epoch 41/100\n",
            "6/6 - 1s - loss: 0.2520 - accuracy: 0.9333 - 942ms/epoch - 157ms/step\n",
            "Epoch 42/100\n",
            "6/6 - 1s - loss: 0.2386 - accuracy: 0.9554 - 882ms/epoch - 147ms/step\n",
            "Epoch 43/100\n",
            "6/6 - 1s - loss: 0.2938 - accuracy: 0.9107 - 885ms/epoch - 147ms/step\n",
            "Epoch 44/100\n",
            "6/6 - 1s - loss: 0.2361 - accuracy: 0.9464 - 903ms/epoch - 150ms/step\n",
            "Epoch 45/100\n",
            "6/6 - 1s - loss: 0.2280 - accuracy: 0.9821 - 1s/epoch - 207ms/step\n",
            "Epoch 46/100\n",
            "6/6 - 1s - loss: 0.2562 - accuracy: 0.9196 - 1s/epoch - 204ms/step\n",
            "Epoch 47/100\n",
            "6/6 - 1s - loss: 0.2127 - accuracy: 0.9643 - 907ms/epoch - 151ms/step\n",
            "Epoch 48/100\n",
            "6/6 - 1s - loss: 0.2160 - accuracy: 0.9732 - 912ms/epoch - 152ms/step\n",
            "Epoch 49/100\n",
            "6/6 - 1s - loss: 0.2193 - accuracy: 0.9464 - 878ms/epoch - 146ms/step\n",
            "Epoch 50/100\n",
            "6/6 - 1s - loss: 0.2098 - accuracy: 0.9821 - 889ms/epoch - 148ms/step\n",
            "Epoch 51/100\n",
            "6/6 - 1s - loss: 0.2368 - accuracy: 0.9554 - 900ms/epoch - 150ms/step\n",
            "Epoch 52/100\n",
            "6/6 - 1s - loss: 0.2067 - accuracy: 0.9464 - 882ms/epoch - 147ms/step\n",
            "Epoch 53/100\n",
            "6/6 - 1s - loss: 0.2027 - accuracy: 0.9500 - 943ms/epoch - 157ms/step\n",
            "Epoch 54/100\n",
            "6/6 - 1s - loss: 0.1852 - accuracy: 0.9732 - 888ms/epoch - 148ms/step\n",
            "Epoch 55/100\n",
            "6/6 - 1s - loss: 0.1944 - accuracy: 0.9643 - 885ms/epoch - 147ms/step\n",
            "Epoch 56/100\n",
            "6/6 - 1s - loss: 0.1763 - accuracy: 0.9732 - 883ms/epoch - 147ms/step\n",
            "Epoch 57/100\n",
            "6/6 - 1s - loss: 0.1733 - accuracy: 0.9821 - 882ms/epoch - 147ms/step\n",
            "Epoch 58/100\n",
            "6/6 - 1s - loss: 0.1961 - accuracy: 0.9643 - 871ms/epoch - 145ms/step\n",
            "Epoch 59/100\n",
            "6/6 - 1s - loss: 0.2171 - accuracy: 0.9375 - 880ms/epoch - 147ms/step\n",
            "Epoch 60/100\n",
            "6/6 - 1s - loss: 0.1662 - accuracy: 0.9821 - 888ms/epoch - 148ms/step\n",
            "Epoch 61/100\n",
            "6/6 - 1s - loss: 0.1967 - accuracy: 0.9464 - 909ms/epoch - 152ms/step\n",
            "Epoch 62/100\n",
            "6/6 - 1s - loss: 0.1777 - accuracy: 0.9583 - 934ms/epoch - 156ms/step\n",
            "Epoch 63/100\n",
            "6/6 - 1s - loss: 0.1814 - accuracy: 0.9643 - 889ms/epoch - 148ms/step\n",
            "Epoch 64/100\n",
            "6/6 - 1s - loss: 0.1701 - accuracy: 0.9732 - 890ms/epoch - 148ms/step\n",
            "Epoch 65/100\n",
            "6/6 - 1s - loss: 0.1462 - accuracy: 0.9911 - 884ms/epoch - 147ms/step\n",
            "Epoch 66/100\n",
            "6/6 - 1s - loss: 0.1524 - accuracy: 0.9821 - 873ms/epoch - 146ms/step\n",
            "Epoch 67/100\n",
            "6/6 - 1s - loss: 0.1352 - accuracy: 0.9833 - 923ms/epoch - 154ms/step\n",
            "Epoch 68/100\n",
            "6/6 - 1s - loss: 0.1786 - accuracy: 0.9464 - 869ms/epoch - 145ms/step\n",
            "Epoch 69/100\n",
            "6/6 - 1s - loss: 0.1369 - accuracy: 0.9821 - 882ms/epoch - 147ms/step\n",
            "Epoch 70/100\n",
            "6/6 - 1s - loss: 0.1366 - accuracy: 0.9732 - 886ms/epoch - 148ms/step\n",
            "Epoch 71/100\n",
            "6/6 - 1s - loss: 0.1206 - accuracy: 0.9821 - 886ms/epoch - 148ms/step\n",
            "Epoch 72/100\n",
            "6/6 - 1s - loss: 0.1213 - accuracy: 0.9821 - 889ms/epoch - 148ms/step\n",
            "Epoch 73/100\n",
            "6/6 - 1s - loss: 0.1860 - accuracy: 0.9643 - 885ms/epoch - 147ms/step\n",
            "Epoch 74/100\n",
            "6/6 - 1s - loss: 0.1073 - accuracy: 0.9911 - 903ms/epoch - 150ms/step\n",
            "Epoch 75/100\n",
            "6/6 - 1s - loss: 0.1239 - accuracy: 0.9911 - 893ms/epoch - 149ms/step\n",
            "Epoch 76/100\n",
            "6/6 - 1s - loss: 0.1635 - accuracy: 0.9643 - 881ms/epoch - 147ms/step\n",
            "Epoch 77/100\n",
            "6/6 - 1s - loss: 0.1003 - accuracy: 1.0000 - 897ms/epoch - 149ms/step\n",
            "Epoch 78/100\n",
            "6/6 - 1s - loss: 0.1058 - accuracy: 0.9911 - 875ms/epoch - 146ms/step\n",
            "Epoch 79/100\n",
            "6/6 - 1s - loss: 0.0959 - accuracy: 0.9911 - 877ms/epoch - 146ms/step\n",
            "Epoch 80/100\n",
            "6/6 - 1s - loss: 0.1153 - accuracy: 0.9821 - 880ms/epoch - 147ms/step\n",
            "Epoch 81/100\n",
            "6/6 - 1s - loss: 0.0975 - accuracy: 0.9911 - 876ms/epoch - 146ms/step\n",
            "Epoch 82/100\n",
            "6/6 - 1s - loss: 0.1096 - accuracy: 0.9750 - 940ms/epoch - 157ms/step\n",
            "Epoch 83/100\n",
            "6/6 - 1s - loss: 0.1134 - accuracy: 0.9643 - 870ms/epoch - 145ms/step\n",
            "Epoch 84/100\n",
            "6/6 - 1s - loss: 0.0886 - accuracy: 1.0000 - 867ms/epoch - 144ms/step\n",
            "Epoch 85/100\n",
            "6/6 - 1s - loss: 0.0850 - accuracy: 1.0000 - 875ms/epoch - 146ms/step\n",
            "Epoch 86/100\n",
            "6/6 - 1s - loss: 0.1123 - accuracy: 0.9732 - 869ms/epoch - 145ms/step\n",
            "Epoch 87/100\n",
            "6/6 - 1s - loss: 0.0804 - accuracy: 1.0000 - 881ms/epoch - 147ms/step\n",
            "Epoch 88/100\n",
            "6/6 - 1s - loss: 0.0848 - accuracy: 0.9911 - 875ms/epoch - 146ms/step\n",
            "Epoch 89/100\n",
            "6/6 - 1s - loss: 0.0811 - accuracy: 1.0000 - 875ms/epoch - 146ms/step\n",
            "Epoch 90/100\n",
            "6/6 - 1s - loss: 0.1198 - accuracy: 0.9911 - 888ms/epoch - 148ms/step\n",
            "Epoch 91/100\n",
            "6/6 - 1s - loss: 0.0722 - accuracy: 0.9911 - 886ms/epoch - 148ms/step\n",
            "Epoch 92/100\n",
            "6/6 - 1s - loss: 0.0648 - accuracy: 1.0000 - 882ms/epoch - 147ms/step\n",
            "Epoch 93/100\n",
            "6/6 - 1s - loss: 0.0698 - accuracy: 1.0000 - 888ms/epoch - 148ms/step\n",
            "Epoch 94/100\n",
            "6/6 - 1s - loss: 0.0832 - accuracy: 1.0000 - 955ms/epoch - 159ms/step\n",
            "Epoch 95/100\n",
            "6/6 - 1s - loss: 0.0705 - accuracy: 1.0000 - 865ms/epoch - 144ms/step\n",
            "Epoch 96/100\n",
            "6/6 - 1s - loss: 0.0568 - accuracy: 1.0000 - 897ms/epoch - 150ms/step\n",
            "Epoch 97/100\n",
            "6/6 - 1s - loss: 0.0757 - accuracy: 0.9917 - 940ms/epoch - 157ms/step\n",
            "Epoch 98/100\n",
            "6/6 - 1s - loss: 0.0536 - accuracy: 1.0000 - 940ms/epoch - 157ms/step\n",
            "Epoch 99/100\n",
            "6/6 - 1s - loss: 0.0662 - accuracy: 1.0000 - 887ms/epoch - 148ms/step\n",
            "Epoch 100/100\n",
            "6/6 - 1s - loss: 0.0621 - accuracy: 1.0000 - 946ms/epoch - 158ms/step\n"
          ]
        }
      ]
    }
  ]
}